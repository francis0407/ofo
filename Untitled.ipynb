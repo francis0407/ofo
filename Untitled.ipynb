{
 "cells": [
  {
   "cell_type": "code",
   "execution_count": 1,
   "metadata": {},
   "outputs": [],
   "source": [
    "import requests\n",
    "import json\n"
   ]
  },
  {
   "cell_type": "code",
   "execution_count": 4,
   "metadata": {},
   "outputs": [],
   "source": [
    "def spider_single(lon,lat,proxy = 0):\n",
    "\n",
    "    url ='https://api.open.ofo.com/v1/near/bicycle'\n",
    "    headers = {\n",
    "        'Host': 'api.open.ofo.com',\n",
    "        'Content - Type': 'application / json',\n",
    "        'Accept': '* / *',\n",
    "        'Accept - Encoding': 'gzip, deflate',\n",
    "        'Connection': 'keep - alive',\n",
    "        'Pragma': 'no - cache',\n",
    "        'User - Agent': 'OneTravel/5.1.8 (iPhone; iOS 10.3.3; Scale/2.00)',\n",
    "        'Accept - Language': 'zh - Hans - CN;q = 1',\n",
    "        'Cache - Control': 'no - cache'\n",
    "    }\n",
    "    values={\"appKey\":\"didi\",\"number\":\"80\",\"longitude\":lon,\"radius\":\"200\",\"mapType\":\"1\",\"latitude\":lat,\"datatype\":\"101\",\"appversion\":\"5.1.8\"}\n",
    "    result = 0\n",
    "    proxies = {\"http\":proxy,\"https\":proxy}\n",
    "    if proxy != 0:\n",
    "        result = requests.post(url = url,headers = headers,data=values)\n",
    "    else:\n",
    "        result = requests.post(url = url,headers = headers,data=values,proxies = proxies)\n",
    "    info = json.loads(result.text)\n",
    "    # print(info)\n",
    "    return info"
   ]
  },
  {
   "cell_type": "code",
   "execution_count": 5,
   "metadata": {},
   "outputs": [
    {
     "name": "stdout",
     "output_type": "stream",
     "text": [
      "{'code': 200, 'message': '附近车辆位置', 'body': {'total': 80, 'bicycles': [{'bicycleNo': 6632283, 'longitude': 121.4104816377, 'latitude': 31.2351265835}, {'bicycleNo': 1078898, 'longitude': 121.4112294479, 'latitude': 31.2348173161}, {'bicycleNo': 1148050, 'longitude': 121.410886495, 'latitude': 31.2344592138}, {'bicycleNo': 1151467, 'longitude': 121.41100046, 'latitude': 31.2343481433}, {'bicycleNo': 3560121, 'longitude': 121.4097394701, 'latitude': 31.2353037754}, {'bicycleNo': 1141779, 'longitude': 121.4108704822, 'latitude': 31.2342721311}, {'bicycleNo': 9341157, 'longitude': 121.409934018, 'latitude': 31.2357604149}, {'bicycleNo': 7937107, 'longitude': 121.4099558079, 'latitude': 31.2359690412}, {'bicycleNo': 4033441, 'longitude': 121.4098338933, 'latitude': 31.2358625939}, {'bicycleNo': 5276838, 'longitude': 121.4116461404, 'latitude': 31.2343720742}, {'bicycleNo': 2023358, 'longitude': 121.4116461404, 'latitude': 31.2343720742}, {'bicycleNo': 1269134, 'longitude': 121.4108581458, 'latitude': 31.2340830104}, {'bicycleNo': 5010296, 'longitude': 121.40959675, 'latitude': 31.2346424802}, {'bicycleNo': 429078, 'longitude': 121.4109854342, 'latitude': 31.2340139934}, {'bicycleNo': 7163205, 'longitude': 121.4094217898, 'latitude': 31.2348045733}, {'bicycleNo': 2312915, 'longitude': 121.4119613497, 'latitude': 31.2358466372}, {'bicycleNo': 2378804, 'longitude': 121.4121672584, 'latitude': 31.2354644172}, {'bicycleNo': 5098356, 'longitude': 121.4098237908, 'latitude': 31.2361170913}, {'bicycleNo': 3608963, 'longitude': 121.4095454223, 'latitude': 31.235850334}, {'bicycleNo': 1742198, 'longitude': 121.4110464151, 'latitude': 31.2339529547}, {'bicycleNo': 5844563, 'longitude': 121.4099518297, 'latitude': 31.2362111519}, {'bicycleNo': 6045368, 'longitude': 121.4119773495, 'latitude': 31.235895656}, {'bicycleNo': 5434275, 'longitude': 121.4122212384, 'latitude': 31.2354143821}, {'bicycleNo': 8857365, 'longitude': 121.4120913051, 'latitude': 31.2357525656}, {'bicycleNo': 891447, 'longitude': 121.4120232115, 'latitude': 31.2344589911}, {'bicycleNo': 5597109, 'longitude': 121.4122212506, 'latitude': 31.2355544459}, {'bicycleNo': 3558391, 'longitude': 121.4099248387, 'latitude': 31.2362621786}, {'bicycleNo': 346652, 'longitude': 121.4119463676, 'latitude': 31.2360047124}, {'bicycleNo': 4147718, 'longitude': 121.4110993977, 'latitude': 31.2338919174}, {'bicycleNo': 209659, 'longitude': 121.4119462219, 'latitude': 31.2343329504}, {'bicycleNo': 4486652, 'longitude': 121.4105265153, 'latitude': 31.2338249825}, {'bicycleNo': 6871028, 'longitude': 121.4093907648, 'latitude': 31.2344674227}, {'bicycleNo': 8787881, 'longitude': 121.4115342986, 'latitude': 31.2339628673}, {'bicycleNo': 4035647, 'longitude': 121.4116230347, 'latitude': 31.2339915701}, {'bicycleNo': 3505318, 'longitude': 121.410806033, 'latitude': 31.2336667004}, {'bicycleNo': 2885475, 'longitude': 121.4093847828, 'latitude': 31.2342246037}, {'bicycleNo': 383599, 'longitude': 121.4125110663, 'latitude': 31.2344298646}, {'bicycleNo': 101801, 'longitude': 121.4126100415, 'latitude': 31.23449487}, {'bicycleNo': 943284, 'longitude': 121.4124352437, 'latitude': 31.2362006898}, {'bicycleNo': 936893, 'longitude': 121.4087433251, 'latitude': 31.2355064682}, {'bicycleNo': 5319959, 'longitude': 121.412679142, 'latitude': 31.2358954912}, {'bicycleNo': 9894966, 'longitude': 121.4105734669, 'latitude': 31.2333787712}, {'bicycleNo': 1864435, 'longitude': 121.4111913327, 'latitude': 31.2333926724}, {'bicycleNo': 2750610, 'longitude': 121.4116653452, 'latitude': 31.2335195798}, {'bicycleNo': 7320321, 'longitude': 121.4116734472, 'latitude': 31.2335129815}, {'bicycleNo': 6623603, 'longitude': 121.4121373691, 'latitude': 31.2366359571}, {'bicycleNo': 791131, 'longitude': 121.4114713973, 'latitude': 31.2333814396}, {'bicycleNo': 4392334, 'longitude': 121.4110746993, 'latitude': 31.233296957}, {'bicycleNo': 2708014, 'longitude': 121.4129379637, 'latitude': 31.2348039274}, {'bicycleNo': 2927552, 'longitude': 121.4114642955, 'latitude': 31.2333203382}, {'bicycleNo': 3671033, 'longitude': 121.4117022543, 'latitude': 31.2333591878}, {'bicycleNo': 4385363, 'longitude': 121.4085748662, 'latitude': 31.2345165152}, {'bicycleNo': 2899839, 'longitude': 121.4086358495, 'latitude': 31.2343944553}, {'bicycleNo': 2393139, 'longitude': 121.4130979472, 'latitude': 31.2352240765}, {'bicycleNo': 6675238, 'longitude': 121.4122510744, 'latitude': 31.233632562}, {'bicycleNo': 7814646, 'longitude': 121.4130519172, 'latitude': 31.2347028512}, {'bicycleNo': 6457673, 'longitude': 121.4131289186, 'latitude': 31.2350159733}, {'bicycleNo': 8922301, 'longitude': 121.4130300163, 'latitude': 31.2357563372}, {'bicycleNo': 3974283, 'longitude': 121.413067292, 'latitude': 31.2356397686}, {'bicycleNo': 481402, 'longitude': 121.4121063957, 'latitude': 31.2368400568}, {'bicycleNo': 2152277, 'longitude': 121.4088022396, 'latitude': 31.2340109833}, {'bicycleNo': 4808507, 'longitude': 121.4129689106, 'latitude': 31.2343116947}, {'bicycleNo': 7741798, 'longitude': 121.4131574144, 'latitude': 31.2355247877}, {'bicycleNo': 5802686, 'longitude': 121.4131574144, 'latitude': 31.2355247877}, {'bicycleNo': 8042583, 'longitude': 121.4085598489, 'latitude': 31.234301418}, {'bicycleNo': 8685420, 'longitude': 121.4112027309, 'latitude': 31.233131784}, {'bicycleNo': 1863212, 'longitude': 121.4131574144, 'latitude': 31.2355247877}, {'bicycleNo': 2129917, 'longitude': 121.4131574144, 'latitude': 31.2355247877}, {'bicycleNo': 6351539, 'longitude': 121.4104820531, 'latitude': 31.233103734}, {'bicycleNo': 135334, 'longitude': 121.4104820531, 'latitude': 31.233103734}, {'bicycleNo': 4244714, 'longitude': 121.4121060965, 'latitude': 31.2334074921}, {'bicycleNo': 6490933, 'longitude': 121.4109392659, 'latitude': 31.2330758292}, {'bicycleNo': 7595909, 'longitude': 121.4123350422, 'latitude': 31.233546503}, {'bicycleNo': 1956777, 'longitude': 121.4085748334, 'latitude': 31.2341403435}, {'bicycleNo': 7803839, 'longitude': 121.4088291462, 'latitude': 31.2338107893}, {'bicycleNo': 1242486, 'longitude': 121.4088187801, 'latitude': 31.2338201793}, {'bicycleNo': 9336765, 'longitude': 121.4087680312, 'latitude': 31.2338767765}, {'bicycleNo': 9591920, 'longitude': 121.4088291462, 'latitude': 31.2338107893}, {'bicycleNo': 4018356, 'longitude': 121.4108538448, 'latitude': 31.2329945116}, {'bicycleNo': 3267412, 'longitude': 121.4108741498, 'latitude': 31.2329774159}]}}\n"
     ]
    }
   ],
   "source": [
    "print(spider_single(121.410764,31.235174))"
   ]
  },
  {
   "cell_type": "code",
   "execution_count": null,
   "metadata": {},
   "outputs": [],
   "source": []
  }
 ],
 "metadata": {
  "kernelspec": {
   "display_name": "Python 3",
   "language": "python",
   "name": "python3"
  },
  "language_info": {
   "codemirror_mode": {
    "name": "ipython",
    "version": 3
   },
   "file_extension": ".py",
   "mimetype": "text/x-python",
   "name": "python",
   "nbconvert_exporter": "python",
   "pygments_lexer": "ipython3",
   "version": "3.6.2"
  }
 },
 "nbformat": 4,
 "nbformat_minor": 2
}
